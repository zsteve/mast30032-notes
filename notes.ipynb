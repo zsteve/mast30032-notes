{
 "cells": [
  {
   "cell_type": "markdown",
   "metadata": {},
   "source": [
    "# MAST30032: Biological Modelling and Simulation\n",
    "\n",
    "Author: Stephen Zhang\n"
   ]
  },
  {
   "cell_type": "markdown",
   "metadata": {},
   "source": [
    "## Discrete-time models\n",
    "\n",
    "Discrete-time models in general concern _difference equations_. We will focus on _first order_ difference equations, which describe sequences $\\{x_n\\}$ such that:\n",
    "\n",
    "$$x_{n+1} \\leftarrow f(x_n)$$\n",
    "\n",
    "The function $f(\\cdot)$ is called the _map_.\n",
    "\n",
    "### Solution of first-order linear difference equations\n",
    "\n",
    "Consider an equation with the general form\n",
    "\n",
    "$$x_{n+1} = ax_n + P(x), a \\in \\mathbb{R}$$\n",
    "\n",
    "We rewrite this as $x_{n+1} - ax_n = P(n)$, then split into _homogeneous_ and _inhomogeneous_ equations:\n",
    "\\begin{align}\n",
    "    x_{n+1} - ax_n &= 0 \\quad &\\text{homogeneous}\\\\\n",
    "    x_{n+1} - ax_n &= P(n) \\quad &\\text{inhomogeneous}\\\\\n",
    "\\end{align}\n",
    "\n",
    "A simple solution (verify this) of the homogeneous solution is ${x_n}^h = Ca^n$. We need to **guess** some $Q(n)$, a solution to the inhomogeneous equation.\n",
    "\n",
    "The **overall** solution is given by superposition:\n",
    "\n",
    "$$x_n = {x_n}^h + {x_n}^i = Ca^n + Q(n)$$\n",
    "\n",
    "### Behaviour of systems of the form $x_{n+1} = rx_n$\n",
    "\n",
    "Consider the case $x_{n+1} = rx_n$ which has solution $x_n = r^tx_0$. There are **seven** classes\n",
    "\n",
    "1. $r = 0$: solution is zero except possibly $x_0$\n",
    "2. $r = 1$: solution is constant everywhere\n",
    "3. $r = -1$: solution oscillates between $+x_0$ and $-x_0$\n",
    "4. $r \\in (0, 1)$: $x_n \\to 0$ as $n \\to \\infty$ monotonically\n",
    "5. $r \\in (-1, 0)$: $x_n \\to 0$ as $n \\to \\infty$ by bounded oscillation\n",
    "6. $r > 1$: $x_n \\to \\infty$ as $n \\to \\infty$ monotonically\n",
    "7. $r < -1$: $|x_n| \\to \\infty$ as $n \\to \\infty$ and $x_n$ oscillates unboundedly\n",
    "\n",
    "### Analysis by cobwebbing\n",
    "\n",
    "Cobwebbing is a graphical method for determining the long-term behaviour of a discrete dynamical system. Consider the general case $x_{n+1} = f(x_n)$. Fixed points of our system are solutions of $x = f(x)$.\n",
    "\n",
    "That is, they will be the intersection between the graph of $y = f(x)$ and $y = x$.\n",
    "\n",
    "![Cobweb of $y = \\sqrt{x}$ , $x_0 = 0.6$](cobweb1.png)\n",
    "\n",
    "Here, we see the cobweb of $x_{n+1} = \\sqrt{x}$ starting from $x_0 = 0.6$. Observe that we converge towards $x = 1$, one of the fixed points of our dynamical system. We call $x = 1$ **stable**, because starting from $x = 0.6$ results in attraction to $x = 1$. On the other hand, $x = 0$ is an **unstable** fixed point, since starting close to $x = 0$ will result in repulsion (see below).\n",
    "\n",
    "![](cobweb2.png)\n",
    "\n",
    "Cobwebbing can show us situations that result in oscillatory behaviour around a fixed point, such as when $f(x) = 1-0.5x^2$ and $x_0 = 0.91$:\n",
    "\n",
    "![](cobweb3.png)\n",
    "\n",
    "The results observed from cobwebbing are formalised as _linear stability analysis_.\n",
    "\n",
    "### General linear stability analysis\n",
    "\n",
    "Consider the dynamical system described by:\n",
    "\n",
    "$$u_{t+1} = f(u_t ; r)$$\n",
    "\n",
    "Here, $r$ is some parameter in the model (its importance will show later!)\n",
    "\n",
    "Let us first determine the _stable (fixed) points_ of our system - such points are solutions to the equation $u = f(u; r)$. Let $u^*$ be such a stable point.\n",
    "\n",
    "Clearly, if $u_0 = u^*$ then $u_t = u^*$ everywhere. This is not interesting - we want to know about the behaviour of our system _close_ to $u^*$. Let us thus consider some perturbation $\\delta_n$ away from our fixed point - we would like to know the _fate_ of this perturbation as it propagates with the evolution of time in our system.\n",
    "\n",
    "Consider using the Taylor series expansion:\n",
    "\n",
    "\\begin{align}\n",
    "    u^* + \\delta_{n+1} &= f(u^* + \\delta_n; r)\\\\\n",
    "    &= f(u^*) + \\delta_nf'(u^*) + \\mathcal{O}(\\delta_n^2)\n",
    "\\end{align}\n",
    "\n",
    "Since $\\delta_n \\ll 1$, we have\n",
    "\n",
    "$$u^* + \\delta_{n+1} = \\underbrace{(u^*)}_{ = u^*} + \\delta_nf'(u^*)$$\n",
    "\n",
    "Thus\n",
    "\n",
    "$$\\delta_{n+1} = f'(u^*)\\delta_n$$\n",
    "\n",
    "*** Eigenvalues of steady states***\n",
    "\n",
    "We call $\\lambda = f'(u^*)$ the _eigenvalue_ of the system associated with the steady state $u^*$.\n",
    "\n",
    "Clearly, if $|\\lambda| < 1$, then $\\delta_{n} \\to 0$ as $n \\to \\infty$; that is, $u^*$ is said to be stable.\n",
    "* Specifically, if $-1 < \\lambda < 0$, we obtain _oscillatory_ behaviour.\n",
    "\n",
    "Consider the case $\\lambda = \\pm 1$. This corresponds to the points in our parameter space where the nature of our steady state *changes*.\n",
    "\n",
    "Consider the **quadratic map** specified by $f(x) = rx(1-x)$.\n",
    "\n",
    "Solving for steady states, we obtain:\n",
    "\\begin{align*}\n",
    "    x^*_1 &= 0\\\\\n",
    "    x^*_2 &= 1 - \\dfrac{1}{r}\\\\\n",
    "\\end{align*}\n",
    "\n",
    "Compute the derivative at these points using $f'(x) = r\\left( 1-x\\right) -rx$\n",
    "\n",
    "\\begin{align*}\n",
    "    f'(x^*_1) &= r\\\\\n",
    "    f'(x^*_2) &= 2-r\n",
    "\\end{align*}\n",
    "\n",
    "$x^*_1 = 0$ is stable for $|r| < 1$. $x^*_2 = 1 - 1/r$ is stable for $1<r<3$. We can thus plot the **stable** solutions to our system as a function of $r$.\n"
   ]
  },
  {
   "cell_type": "raw",
   "metadata": {},
   "source": []
  },
  {
   "cell_type": "code",
   "execution_count": 10,
   "metadata": {},
   "outputs": [
    {
     "data": {
      "text/plain": [
       "Text(0.5,1,'Plot of stable fixed points for map $f(x) = rx(1-x)$ for $r \\\\in [0, 3]$')"
      ]
     },
     "execution_count": 10,
     "metadata": {},
     "output_type": "execute_result"
    },
    {
     "data": {
      "image/png": "[encoded data removed]",
      "text/plain": [
       "<Figure size 432x288 with 1 Axes>"
      ]
     },
     "metadata": {},
     "output_type": "display_data"
    }
   ],
   "source": [
    "import matplotlib as mp\n",
    "import matplotlib.pyplot as plt\n",
    "plt.figure()\n",
    "x = [0.01*i for i in range(0, 300)]\n",
    "y = [0 for i in range(0, 100)] + [1 - 1/(0.01*i) for i in range(100, 300)]\n",
    "plt.plot(x, y)\n",
    "plt.title(\"Plot of stable fixed points for map $f(x) = rx(1-x)$ for $r \\in [0, 3]$\")"
   ]
  },
  {
   "cell_type": "code",
   "execution_count": 38,
   "metadata": {},
   "outputs": [
    {
     "data": {
      "text/plain": [
       "Text(0.5,1,'Plot of iterative solution with r = 3.1')"
      ]
     },
     "execution_count": 38,
     "metadata": {},
     "output_type": "execute_result"
    },
    {
     "data": {
      "image/png": "[encoded data removed]",
      "text/plain": [
       "<Figure size 432x288 with 1 Axes>"
      ]
     },
     "metadata": {},
     "output_type": "display_data"
    },
    {
     "data": {
      "image/png": "[encoded data removed]",
      "text/plain": [
       "<Figure size 432x288 with 1 Axes>"
      ]
     },
     "metadata": {},
     "output_type": "display_data"
    },
    {
     "data": {
      "image/png": "[encoded data removed]",
      "text/plain": [
       "<Figure size 432x288 with 1 Axes>"
      ]
     },
     "metadata": {},
     "output_type": "display_data"
    }
   ],
   "source": [
    "from iterate import iterate\n",
    "r = 0.5\n",
    "x = iterate(30, lambda x: r*x*(1-x), x0 = 0.5)\n",
    "\n",
    "plt.figure()\n",
    "plt.scatter([i[0] for i in x], [i[1] for i in x])\n",
    "plt.title(\"Plot of iterative solution with r = 0.5\")\n",
    "plt.ylim(-0.1, 1)\n",
    "\n",
    "r = 1.5\n",
    "x = iterate(30, lambda x: r*x*(1-x), x0 = 0.01)\n",
    "plt.figure()\n",
    "plt.scatter([i[0] for i in x], [i[1] for i in x])\n",
    "plt.ylim(0, 1)\n",
    "plt.title(\"Plot of iterative solution with r = 1.5\")\n",
    "\n",
    "r = 3.1\n",
    "x = iterate(30, lambda x: r*x*(1-x), x0 = 0.01)\n",
    "plt.figure()\n",
    "plt.scatter([i[0] for i in x], [i[1] for i in x])\n",
    "plt.ylim(0, 1)\n",
    "plt.title(\"Plot of iterative solution with r = 3.1\")"
   ]
  },
  {
   "cell_type": "markdown",
   "metadata": {},
   "source": [
    "In the last case where $r = 3.1$, we see that our steady state is a **2-cycle** that alternates between 2 values. We say that $r$ increased past the bifurcation point $r = 3$.\n",
    "\n",
    "How does this arise?\n",
    "\n",
    "For $r > 3$, consider some fixed point of our map, $u^* = f(u^*)$. Clearly, $u^* = f(f(u^*))$. That is,\n",
    "\n",
    "$$u^* = f^2(u^*)$$\n",
    "\n",
    "We can consider solutions to the second-iterate map.\n",
    "\n",
    "$$r^2(1-u^*)u^*(1-r(1-u^*)u^*) = u^*$$\n",
    "\n",
    "We can attempt to solve this equation and recover the solutions:\n",
    "\\begin{align*}\n",
    "    u^* &= 0 &\\text{for } |r| < 1\\\\\n",
    "    u^* &= 1 - 1/r &\\text{for } 1 < r < 3\\\\\n",
    "    u^* &= \\alpha, \\beta &\\text{for } r > 3\n",
    "\\end{align*}\n",
    "\n",
    "We can now consider stability under the second-iterate map $f^2$, so we consider $\\mathrm{d}_x f^2$ at our fixed points to determine where they are stable.\n",
    "\n",
    "Following on from this, we may consider the next iteration of our map, $f^3$, and so on.\n",
    "\n",
    "In general, to investigate the stability of specific points on our map, we may consider:\n",
    "\n",
    "$$u^* = f^m(u^*) \\Rightarrow \\lambda = \\dfrac{\\partial f^m}{\\partial u}(u^*) = \\Pi_{i = 0}^{m-1} f'(u_i)$$\n",
    "\n",
    "### Systems of difference equations\n",
    "\n",
    "Definition: a *k*th order discrete system of difference equations is described by an expression of the form:\n",
    "\n",
    "$$X_{t+k} = f(X_{t+k-1}, X_{t+k-2}, ..., X_t ; t)$$\n",
    "\n",
    "#### 'Reduction of order' for systems of difference equations\n",
    "\n",
    "A system of order $k > 1$ can be reduced to a first order system by augmenting the number of variables:\n",
    "\n",
    "Consider\n",
    "\n",
    "$$y_{t+2} = g(y_{t+1}, y_t)$$\n",
    "\n",
    "We set $u_t = y_{t+1}$ and $v_t = y_t$. This gives:\n",
    "\n",
    "\\begin{align*}\n",
    "    u_{t+1} &= g(u_t, v_t)\\\\\n",
    "    v_{t+1} &= u_t\n",
    "\\end{align*}\n",
    "\n",
    "This is a *first order* system that can be solving methods we will presently show.\n",
    "\n",
    "#### Analysis of linear systems of difference equations\n",
    "\n",
    "A linear system of difference equations can be expressed in the form\n",
    "\n",
    "$$\\vec{x}_{n+1} = \\mathbf{A}\\vec{x}_n + \\vec{c}$$\n",
    "\n",
    "Where $\\vec{x}_n = (x_{1,n}, x_{2,n}, ..., x_{m, n})$ and $\\mathbf{A}$ is a matrix of constants, $\\vec{c}$ is a vector of constants.\n",
    "\n",
    "Consider a certain solution where $\\vec{x}$ takes the form $\\vec{x}_n = (A\\lambda^n, B\\lambda^n) = \\lambda^n \\vec{x}_0$. Thus we achieve the following:\n",
    "\n",
    "\\begin{align*}\n",
    "\\lambda^{n+1}\\vec{x}_0 &= \\mathbf{A} \\lambda^n \\vec{x}_0\\\\\n",
    "(\\mathbf{A} - \\lambda \\mathbf{I}) \\vec{x}_0 &= \\mathbf{0}\n",
    "\\end{align*}\n",
    "\n",
    "Clearly in this situation, $\\vec{x}_0 \\ne \\vec{0}$ in general so we require $\\mathrm{det}(\\mathbf{A} - \\lambda\\mathbf{I}) = 0$, i.e. $\\lambda$ must be an **eigenvalue** of $\\mathbf{A}$.\n",
    "\n",
    "Consequently for our system to undergo the behaviour $\\vec{x}_{n+1} = \\lambda \\vec{x}_n$, $\\vec{x}_0$ must be *an eigenvector* corresponding to the eigenvalue $\\lambda$.\n",
    "\n",
    "Our solution will converge $\\vec{x}_n \\to \\vec{0}$ if $|\\lambda| < 1$, and diverge if $|\\lambda| > 1$.\n",
    "\n",
    "***What happens in the general case where $\\vec{x}_0$ is a general vector?***\n",
    "\n",
    "Assuming $\\mathbf{A}$ is nonsingular ($\\Rightarrow$ $\\mathbf{A}$ is of full rank), the rank-nullity theorem implies it will have a 'non-degenerate eigenspace'.\n",
    "\n",
    "Thus, for any $\\vec{x}_n$ we may write an expansion in basis vectors:\n",
    "\n",
    "$$\\vec{x}_n = \\sum_i k_i \\vec{e}_i$$\n",
    "\n",
    "Thus\n",
    "\n",
    "$$\\vec{x}_{n+1} = \\mathbf{A}\\vec{x}_n = \\mathbf{A}\\sum_i k_i\\vec{e}_i = \\sum_i \\lambda_ik_i\\vec{e}_i$$\n",
    "\n",
    "From this it is clear that:\n",
    "\n",
    "* To ensure that $\\vec{x}_n \\to \\vec{0}$, $|\\lambda_i| < 1$ for **all** our eigenvalues.\n",
    "* If **one** of our eigenvalues is $>1$, one of our eigenvector expansion terms will explode.\n",
    "\n",
    "#### Nonlinear systems\n",
    "\n",
    "We can consider the most general case of our problem:\n",
    "\n",
    "\\begin{equation}\n",
    "\\begin{bmatrix}x_{n+1}\\\\y_{n+1}\\end{bmatrix} = \\begin{bmatrix}f(x_n, y_n)\\\\g(x_n, y_n)\\end{bmatrix} \\Rightarrow \\vec{x}_{n+1} = \\mathbf{F}(\\vec{x}_n)\n",
    "\\end{equation}\n",
    "\n",
    "Consider some fixed point $\\vec{x}^*$ of our system, and take some small perturbation $\\vec{delta}_n$ with $|\\vec{\\delta}_n| \\ll 1$\n",
    "\n",
    "As with univariate linear stability analysis, we can consider the behaviour of our system around the stable state.\n",
    "\n",
    "\\begin{align*}\n",
    "    \\vec{x}^* + \\vec{\\delta}_{n+1} &= \\mathbf{F}(\\vec{x}^* + \\vec{\\delta}_n)\\\\\n",
    "    \\vec{x}^* + \\vec{\\delta}_{n+1} &= \\vec{x}^* + \\mathbf{DF}(\\vec{x}^*) + \\vec{e}\n",
    "\\end{align*}\n",
    "\n",
    "Here, $\\mathbf{DF}$ is the derivative matrix\n",
    "\n",
    "\\begin{equation}\n",
    "\\mathbf{DF} = \\begin{bmatrix}f_x&f_y\\\\g_x&g_y\\end{bmatrix}\n",
    "\\end{equation}"
   ]
  },
  {
   "cell_type": "code",
   "execution_count": null,
   "metadata": {},
   "outputs": [],
   "source": []
  }
 ],
 "metadata": {
  "kernelspec": {
   "display_name": "Python 2",
   "language": "python",
   "name": "python2"
  },
  "language_info": {
   "codemirror_mode": {
    "name": "ipython",
    "version": 2
   },
   "file_extension": ".py",
   "mimetype": "text/x-python",
   "name": "python",
   "nbconvert_exporter": "python",
   "pygments_lexer": "ipython2",
   "version": "2.7.12"
  }
 },
 "nbformat": 4,
 "nbformat_minor": 2
}
